{
  "nbformat": 4,
  "nbformat_minor": 0,
  "metadata": {
    "colab": {
      "provenance": [],
      "collapsed_sections": []
    },
    "kernelspec": {
      "name": "python3",
      "display_name": "Python 3"
    },
    "language_info": {
      "name": "python"
    }
  },
  "cells": [
    {
      "cell_type": "markdown",
      "source": [
        "<h1> Question-1 </h1>"
      ],
      "metadata": {
        "id": "KqIApV6EorrE"
      }
    },
    {
      "cell_type": "code",
      "execution_count": 2,
      "metadata": {
        "colab": {
          "base_uri": "https://localhost:8080/"
        },
        "id": "yccACooMoGCk",
        "outputId": "5eafb48a-92f3-47b5-e23b-c73cfdf52ea5"
      },
      "outputs": [
        {
          "output_type": "stream",
          "name": "stdout",
          "text": [
            "sorted ages : [19, 19, 20, 22, 24, 24, 24, 25, 25, 26]\n",
            "miminum age : 19\n",
            "maximum age : 26\n",
            "ages after adding min and max age : [19, 19, 20, 22, 24, 24, 24, 25, 25, 26, 19, 26]\n",
            "median age : 24.0\n",
            "average age : 22.75\n",
            "range of ages : 7\n"
          ]
        }
      ],
      "source": [
        "ages = [19,22,19,24,20,25,26,24,25,24]\n",
        "# sorting the list \n",
        "ages.sort()\n",
        "# finding the minimum age from the list ages\n",
        "minimum = ages[0]\n",
        "# finding the maximum age from the list ages\n",
        "maximum = ages[-1]\n",
        "# printing the sorted list and minimum and maximum values in the list\n",
        "print('sorted ages :',ages)\n",
        "print('miminum age :',minimum)\n",
        "print('maximum age :',maximum)\n",
        "ages.append(minimum)\n",
        "ages.append(maximum)\n",
        "print('ages after adding min and max age :',ages)\n",
        "ages.sort()\n",
        "length = len(ages)\n",
        "# finding the median \n",
        "if length%2 == 1:\n",
        "\tmedian = ages[length//2]\n",
        "else:\n",
        "\tmedian = (ages[length//2-1]+ages[length//2])/2\n",
        "# printing the median\n",
        "print('median age :',median)\n",
        "# finding the average\n",
        "average = sum(ages)/len(ages)\n",
        "# printing the average\n",
        "print('average age :',average)\n",
        "# since the range is the keyword in python, variable name should not be the same\n",
        "rangee = maximum-minimum\n",
        "print('range of ages :',rangee)"
      ]
    },
    {
      "cell_type": "markdown",
      "source": [
        "<h1> Question-2 </h1>"
      ],
      "metadata": {
        "id": "dvu9_wNTsMS4"
      }
    },
    {
      "cell_type": "code",
      "source": [
        "# creating an empty dictionary called dog\n",
        "dog = {}\n",
        "# adding name to dog dictionary\n",
        "dog['name'] = 'bittu'\n",
        "# adding color to dog dictionary\n",
        "dog['color'] = 'black'\n",
        "# adding breed to the dog dictionary\n",
        "dog['breed'] = 'german'\n",
        "# adding legs to the dog dictionary\n",
        "dog['legs'] = 4\n",
        "# adding age to the dog dictionary\n",
        "dog['age'] = 7\n",
        "# printing the dog dictionary\n",
        "print('dog :',dog)\n",
        "# creating the student dictionary\n",
        "student = {'first_name':'Satish','last_name':'Kothamasu','gender':'Male','age':24,'marital_status':'single',\\\n",
        "           'skills':['python','java'],'country':'India','city':'Guntur','address':'Kothapet'}\n",
        "print('student :',student)\n",
        "# printing the length of the student dictionary\n",
        "print('length of the student dictionary :',len(student))\n",
        "# printing the student skills\n",
        "print('student skills :',student['skills'])\n",
        "print('type of student skills :',type(student['skills']).__name__)\n",
        "student['skills'].append('flask')\n",
        "print('dictionary keys :',list(student.keys()))\n",
        "print('dictionary values :',list(student.values()))\n"
      ],
      "metadata": {
        "colab": {
          "base_uri": "https://localhost:8080/"
        },
        "id": "3pf_fJDkolO2",
        "outputId": "c96432fb-c2dd-40f9-8f14-e07bde812a9b"
      },
      "execution_count": 3,
      "outputs": [
        {
          "output_type": "stream",
          "name": "stdout",
          "text": [
            "dog : {'name': 'bittu', 'color': 'black', 'breed': 'german', 'legs': 4, 'age': 7}\n",
            "student : {'first_name': 'Satish', 'last_name': 'Kothamasu', 'gender': 'Male', 'age': 24, 'marital_status': 'single', 'skills': ['python', 'java'], 'country': 'India', 'city': 'Guntur', 'address': 'Kothapet'}\n",
            "length of the student dictionary : 9\n",
            "student skills : ['python', 'java']\n",
            "type of student skills : list\n",
            "dictionary keys : ['first_name', 'last_name', 'gender', 'age', 'marital_status', 'skills', 'country', 'city', 'address']\n",
            "dictionary values : ['Satish', 'Kothamasu', 'Male', 24, 'single', ['python', 'java', 'flask'], 'India', 'Guntur', 'Kothapet']\n"
          ]
        }
      ]
    },
    {
      "cell_type": "markdown",
      "source": [
        "<h1> Question-3 </h1>"
      ],
      "metadata": {
        "id": "577u3IZZsKS3"
      }
    },
    {
      "cell_type": "code",
      "source": [
        "# creating brothers tuple\n",
        "brothers = ('Ramesh','Suresh')\n",
        "# creating sisters tuple\n",
        "sisters = ('Swetha','Geetha')\n",
        "# adding brothers and sisters tuples and assigning it to siblings\n",
        "siblings = brothers + sisters\n",
        "# printing siblings tuple\n",
        "print('siblings :',siblings)\n",
        "print('number of siblings :',len(siblings))\n",
        "# adding father and mother to siblings and assigning it to family_members\n",
        "family_members = siblings + ('Bhupathi Rao','Kanthamma')\n",
        "print('family_members :',family_members)"
      ],
      "metadata": {
        "colab": {
          "base_uri": "https://localhost:8080/"
        },
        "id": "gTSjXGVkopJF",
        "outputId": "6985daa2-67e9-4eda-95bb-64342f5d5a7c"
      },
      "execution_count": 4,
      "outputs": [
        {
          "output_type": "stream",
          "name": "stdout",
          "text": [
            "siblings : ('Ramesh', 'Suresh', 'Swetha', 'Geetha')\n",
            "number of siblings : 4\n",
            "family_members : ('Ramesh', 'Suresh', 'Swetha', 'Geetha', 'Bhupathi Rao', 'Kanthamma')\n"
          ]
        }
      ]
    },
    {
      "cell_type": "markdown",
      "source": [
        "<h1> Question-4 </h1>"
      ],
      "metadata": {
        "id": "s3GJeFB9zTRF"
      }
    },
    {
      "cell_type": "code",
      "source": [
        "it_companies = {'Facebook','Google','Microsoft','Apple','IBM','Oracle','Amazon'}\n",
        "A = {19,22,24,20,25,26}\n",
        "B = {19,22,20,25,26,24,28,27}\n",
        "age = [22,19,24,25,26,24,25,24]\n",
        "# finding the length of it companies\n",
        "print('length of it_companies :',len(it_companies))\n",
        "# adding twitter to it_companies\n",
        "it_companies.add('Twitter')\n",
        "# printing the updated it_companies set\n",
        "print('it_companies :',it_companies)\n",
        "# inserting multiple it_companies at once to the set it_companies\n",
        "it_companies.update(['Netflix','Adobe','Salesforce'])\n",
        "# printing the updated it_companies set\n",
        "print('it_companies :',it_companies)\n",
        "# Removing one of it_companies (IBM) from the set it_companies\n",
        "it_companies.remove('IBM')\n",
        "# printing the updated it_companies set\n",
        "print('it_companies :',it_companies)\n",
        "# remove method will remove the specified element from the set. if the specified element is not present in the set, it will give keyerror\n",
        "# discard method will also remove the specified element from the set. if the specifed element is not present it wont raise any keyerror\n",
        "# joining A and B\n",
        "print('A union B :',A.union(B))\n",
        "# A instersection B\n",
        "print('A intersection B :',A.intersection(B))\n",
        "# is A subset of B\n",
        "print('is A subset of B :',A.issubset(B))\n",
        "# are A and B disjoint sets\n",
        "print('are A and B disjoint sets :',A.isdisjoint(B))\n",
        "# joining A with B\n",
        "print('joining A with B :',A.union(B))\n",
        "# joining B with A\n",
        "print('joining B with A :',B.union(A))\n",
        "print('Symmetric difference between A and B :',A.symmetric_difference(B))\n",
        "del(A)\n",
        "del(B)\n",
        "# converting the ages list to set\n",
        "age_set = set(age)\n",
        "print('length of ages list :',len(age))\n",
        "print('length of ages set :',len(age_set))"
      ],
      "metadata": {
        "colab": {
          "base_uri": "https://localhost:8080/"
        },
        "id": "hu0AmCFovjQj",
        "outputId": "7081d29a-07ec-4ba8-dd63-692542b2be5a"
      },
      "execution_count": 5,
      "outputs": [
        {
          "output_type": "stream",
          "name": "stdout",
          "text": [
            "length of it_companies : 7\n",
            "it_companies : {'Oracle', 'Facebook', 'Google', 'IBM', 'Microsoft', 'Amazon', 'Twitter', 'Apple'}\n",
            "it_companies : {'Adobe', 'Oracle', 'Facebook', 'Google', 'IBM', 'Microsoft', 'Amazon', 'Salesforce', 'Twitter', 'Apple', 'Netflix'}\n",
            "it_companies : {'Adobe', 'Oracle', 'Facebook', 'Google', 'Microsoft', 'Amazon', 'Salesforce', 'Twitter', 'Apple', 'Netflix'}\n",
            "A union B : {19, 20, 22, 24, 25, 26, 27, 28}\n",
            "A intersection B : {19, 20, 22, 24, 25, 26}\n",
            "is A subset of B : True\n",
            "are A and B disjoint sets : False\n",
            "joining A with B : {19, 20, 22, 24, 25, 26, 27, 28}\n",
            "joining B with A : {19, 20, 22, 24, 25, 26, 27, 28}\n",
            "Symmetric difference between A and B : {27, 28}\n",
            "length of ages list : 8\n",
            "length of ages set : 5\n"
          ]
        }
      ]
    },
    {
      "cell_type": "markdown",
      "source": [
        "<h1> Question-5 </h1>"
      ],
      "metadata": {
        "id": "UhrpXZmp7hcX"
      }
    },
    {
      "cell_type": "code",
      "source": [
        "radius = 30\n",
        "# calculating the area of circle\n",
        "_area_of_circle_ = 3.14*radius**2\n",
        "# printing the area of circle\n",
        "print('area of circle with radius 30 is :',_area_of_circle_)\n",
        "# calculating the circumference of the circle\n",
        "_circum_of_circle_ = 2*3.14*radius\n",
        "# printing the circumference of the circle\n",
        "print('circumference of the circle with radius 30 is :',_circum_of_circle_)\n",
        "# getting the radius from the user\n",
        "radius = int(input('Enter radius: '))\n",
        "_area_of_circle_ = 3.14*radius**2\n",
        "print('area of circle with radius {} is :'.format(radius),_area_of_circle_)"
      ],
      "metadata": {
        "id": "LFMZ5RfLzwkE",
        "colab": {
          "base_uri": "https://localhost:8080/"
        },
        "outputId": "ac4ffa1e-2471-4495-d76d-f1cab056e5a6"
      },
      "execution_count": 6,
      "outputs": [
        {
          "output_type": "stream",
          "name": "stdout",
          "text": [
            "area of circle with radius 30 is : 2826.0\n",
            "circumference of the circle with radius 30 is : 188.4\n",
            "Enter radius: 10\n",
            "area of circle with radius 10 is : 314.0\n"
          ]
        }
      ]
    },
    {
      "cell_type": "markdown",
      "source": [
        "<h1> Question-6 </h1>"
      ],
      "metadata": {
        "id": "rSjMQpUH8wvr"
      }
    },
    {
      "cell_type": "code",
      "source": [
        "string = 'I am a teacher and I love to inspire and teach people'\n",
        "unique_words = set(string.split())\n",
        "print('unique words in the given string are :',unique_words)\n",
        "print('number of unique words :',len(unique_words))"
      ],
      "metadata": {
        "colab": {
          "base_uri": "https://localhost:8080/"
        },
        "id": "9du4UZa37t7M",
        "outputId": "b434a2b9-b347-45d5-a755-aa3c4f332a1c"
      },
      "execution_count": 7,
      "outputs": [
        {
          "output_type": "stream",
          "name": "stdout",
          "text": [
            "unique words in the given string are : {'inspire', 'to', 'am', 'and', 'a', 'teacher', 'teach', 'love', 'people', 'I'}\n",
            "number of unique words : 10\n"
          ]
        }
      ]
    },
    {
      "cell_type": "markdown",
      "source": [
        "<h1> Question-7 </h1>"
      ],
      "metadata": {
        "id": "gPD-uoLk9FaN"
      }
    },
    {
      "cell_type": "code",
      "source": [
        "print('Name\\t\\tAge\\tCountry\\t\\tCity')\n",
        "print('Asabeneh\\t250\\tFinland\\t\\tHelsinki')"
      ],
      "metadata": {
        "colab": {
          "base_uri": "https://localhost:8080/"
        },
        "id": "MvpFy-jZ9Ce3",
        "outputId": "6f4640a6-e3a2-4e2a-94d9-88dbf94ce621"
      },
      "execution_count": 8,
      "outputs": [
        {
          "output_type": "stream",
          "name": "stdout",
          "text": [
            "Name\t\tAge\tCountry\t\tCity\n",
            "Asabeneh\t250\tFinland\t\tHelsinki\n"
          ]
        }
      ]
    },
    {
      "cell_type": "markdown",
      "source": [
        "<h1> Question-8 </h1>"
      ],
      "metadata": {
        "id": "tjBAefHP9jE5"
      }
    },
    {
      "cell_type": "code",
      "source": [
        "radius = 10\n",
        "area = 3.14*radius**2\n",
        "print('The area of a circle with radius {} is {} meters square'.format(radius,area))"
      ],
      "metadata": {
        "colab": {
          "base_uri": "https://localhost:8080/"
        },
        "id": "6s4UU8s69NVK",
        "outputId": "d0b3f325-b18c-4f14-d007-6f1a9c5e8aed"
      },
      "execution_count": 9,
      "outputs": [
        {
          "output_type": "stream",
          "name": "stdout",
          "text": [
            "The area of a circle with radius 10 is 314.0 meters square\n"
          ]
        }
      ]
    },
    {
      "cell_type": "markdown",
      "source": [
        "<h1> Question-9 </h1>"
      ],
      "metadata": {
        "id": "tnGu8mf0_pWY"
      }
    },
    {
      "cell_type": "code",
      "source": [
        "n = int(input('Enter no of students : '))\n",
        "weights_in_lb = []\n",
        "for i in range(n):\n",
        "\tweights_in_lb.append(int(input('Enter weight of student-{} : '.format(i+1))))\n",
        "print(weights_in_lb)\n",
        "weights_in_kg = []\n",
        "for i in weights_in_lb:\n",
        "\tx = i*0.453592\n",
        "\tweights_in_kg.append(float(\"%.2f\" %x))\n",
        "print(weights_in_kg)"
      ],
      "metadata": {
        "colab": {
          "base_uri": "https://localhost:8080/"
        },
        "id": "9U8ESCU69sQn",
        "outputId": "b20729d8-6be7-409d-81e4-6cd9d99149a8"
      },
      "execution_count": 10,
      "outputs": [
        {
          "output_type": "stream",
          "name": "stdout",
          "text": [
            "Enter no of students : 4\n",
            "Enter weight of student-1 : 150\n",
            "Enter weight of student-2 : 155\n",
            "Enter weight of student-3 : 145\n",
            "Enter weight of student-4 : 148\n",
            "[150, 155, 145, 148]\n",
            "[68.04, 70.31, 65.77, 67.13]\n"
          ]
        }
      ]
    },
    {
      "cell_type": "markdown",
      "source": [
        "<h1> Question-10 </h1>"
      ],
      "metadata": {
        "id": "N0VO_UlYFshX"
      }
    },
    {
      "cell_type": "markdown",
      "source": [
        "<h5> The given  dataset is </h5>\n",
        "<table>\n",
        "<tr><th> Feature </th><th> label </th></tr>\n",
        "<tr><td>1</td><td>O</td></tr>\n",
        "<tr><td>2</td><td>O</td></tr>\n",
        "<tr><td>3</td><td>X</td></tr>\n",
        "<tr><td>6</td><td>X</td></tr>\n",
        "<tr><td>6</td><td>X</td></tr>\n",
        "<tr><td>7</td><td>O</td></tr>\n",
        "<tr><td>10</td><td>O</td></tr>\n",
        "<tr><td>11</td><td>O</td></tr>\n",
        "</table>\n",
        "\n",
        "<p> Now divide the given dataset into 2 equal parts. one is for training and other is for testing. </p>\n",
        "\n",
        "<h7> Training dataset </h7>\n",
        "<table>\n",
        "<tr><th> Feature </th><th> label </th></tr>\n",
        "<tr><td>1</td><td>O</td></tr>\n",
        "<tr><td>2</td><td>O</td></tr>\n",
        "<tr><td>3</td><td>X</td></tr>\n",
        "<tr><td>6</td><td>X</td></tr>\n",
        "</table>\n",
        "\n",
        "<p> For testing dataset we need find the label so we wont give the label for the test data</p>\n",
        "<h7> Testing dataset </h7>\n",
        "<table>\n",
        "<tr><th> Feature </th></tr>\n",
        "<tr><td>6</td></tr>\n",
        "<tr><td>7</td></tr>\n",
        "<tr><td>10</td></tr>\n",
        "<tr><td>11</td></tr>\n",
        "</table>\n",
        "\n",
        "<p> Now find the distance between each test data point to all the data points in the train dataset </p>\n",
        "\n",
        "<table>\n",
        "<tr><th></th><th>O</th><th>O</th><th>X</th><th>X</th></tr>\n",
        "<tr><th></th><th>1</th><th>2</th><th>3</th><th>6</th><th>Predicted Ouputs</th></tr>\n",
        "<tr><th>6</th><td>5</td><td><mark>4</mark></td><td><mark>3</mark></td><td><mark>0</mark></td><th>X</th></tr>\n",
        "<tr><th>7</th><td>6</td><td><mark>5</mark></td><td><mark>4</mark></td><td><mark>1</mark></td><th>X</th></tr>\n",
        "<tr><th>10</th><td>9</td><td><mark>8</mark></td><td><mark>7</mark></td><td><mark>4</mark></td><th>X</th></tr>\n",
        "<tr><th>11</th><td>10</td><td><mark>9</mark></td><td><mark>8</mark></td><td><mark>5</mark></td><th>X</th></tr>\n",
        "</table>\n",
        "\n",
        "Given k = 3, so considering the 3 shortest distances from each of the test data point to the data points in the train dataset and label the test data point as per the majority lables of train dataset\n",
        "\n",
        "Based on the Truth labels and Predicted labels, we can write the confusion matrix in terms of TP, TN, FP, FN values. But for that we need to assume one of the labels as positives and the other as negatives.\n",
        "\n",
        "Considering the 'O' label as negatives and 'X' label as positives\n",
        "\n",
        "<table>\n",
        "<tr><th>Training dataset</th><th>True Labels</th><th>Prediction Labels</th><th>Output</th></tr>\n",
        "<tr><td>6</td><td>X</td><td>X</td><td>TP</td></tr>\n",
        "<tr><td>7</td><td>O</td><td>X</td><td>FP</td></tr>\n",
        "<tr><td>10</td><td>O</td><td>X</td><td>FP</td></tr>\n",
        "<tr><td>11</td><td>O</td><td>X</td><td>FP</td></tr>\n",
        "</table>\n",
        "\n",
        "Now, with these TP and FP values, we can write confusion matrix\n",
        "\n",
        "Confusion matrix will be as shown below\n",
        "\n",
        "<table>\n",
        "<tr><th>number of TN</th><th>number of FP</th></tr>\n",
        "<tr><th>number of FN</th><th>number of TP</th></tr>\n",
        "</table>\n",
        "\n",
        "confusion matrix for the test data is\n",
        "<table>\n",
        "<tr><th>0</th><th>3</th></tr>\n",
        "<tr><th>0</th><th>1</th></tr>\n",
        "</table>\n",
        "\n",
        "<pre>\n",
        "Accuracy = (TP + TN)/(P + N)\n",
        "         = (1 + 0)/(1 + 0 + 3 + 0)\n",
        "         = 1 / 4\n",
        "         = 0.25\n",
        "</pre>\n",
        "<pre>\n",
        "Sensitivity = TP / P\n",
        "            = 1 / 1\n",
        "            = 1\n",
        "</pre>\n",
        "<pre>\n",
        "Specificity = TN / N\n",
        "            = 0 / 3\n",
        "            = 0\n",
        "</pre>\n",
        "\n",
        "\n",
        "\n"
      ],
      "metadata": {
        "id": "5jFL4sg_F4Bx"
      }
    },
    {
      "cell_type": "code",
      "source": [],
      "metadata": {
        "id": "n88NM3gx_1fG"
      },
      "execution_count": null,
      "outputs": []
    }
  ]
}