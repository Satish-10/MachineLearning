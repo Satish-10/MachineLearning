{
 "cells": [
  {
   "cell_type": "markdown",
   "id": "9cf0226f",
   "metadata": {},
   "source": [
    "# 1. Principal Component Analysis"
   ]
  },
  {
   "cell_type": "code",
   "execution_count": 1,
   "id": "94824066",
   "metadata": {},
   "outputs": [],
   "source": [
    "from sklearn.decomposition import PCA # importing PCA from sklearn.decomposition \n",
    "from sklearn.preprocessing import StandardScaler # importing StandardScaler from sklearn.preprocessing\n",
    "from sklearn.model_selection import train_test_split # importing train_test_split from sklearn.model_selection\n",
    "import pandas as pd # importing pandas as pd\n",
    "# importing accuracy_score,classification_report from sklearn.metrics\n",
    "from sklearn.metrics import accuracy_score,classification_report, confusion_matrix\n",
    "import matplotlib.pyplot as plt # importing matplotlib.pyplot as plt\n",
    "import warnings # importing warinings\n",
    "warnings.filterwarnings('ignore') # to ignore all the warnings"
   ]
  },
  {
   "cell_type": "code",
   "execution_count": 2,
   "id": "f6939cb1",
   "metadata": {},
   "outputs": [],
   "source": [
    "cc = pd.read_csv('CC.csv') # reading CC.csv and storing it as cc\n",
    "cc.fillna(cc.mean(),axis=0,inplace=True) # replacing all the NaN values with means of respective columns"
   ]
  },
  {
   "cell_type": "code",
   "execution_count": 3,
   "id": "18bc72f9",
   "metadata": {},
   "outputs": [],
   "source": [
    "X = cc.drop(columns=['TENURE','CUST_ID']) # dropping 'TENURE','CUST_ID' columns and storing in X\n",
    "y = cc['TENURE'] # considering 'TENURE' as storing in y"
   ]
  },
  {
   "cell_type": "markdown",
   "id": "10000493",
   "metadata": {},
   "source": [
    "### a. Apply PCA on CC dataset."
   ]
  },
  {
   "cell_type": "code",
   "execution_count": 4,
   "id": "7d0775e2",
   "metadata": {},
   "outputs": [
    {
     "data": {
      "text/html": [
       "<div>\n",
       "<style scoped>\n",
       "    .dataframe tbody tr th:only-of-type {\n",
       "        vertical-align: middle;\n",
       "    }\n",
       "\n",
       "    .dataframe tbody tr th {\n",
       "        vertical-align: top;\n",
       "    }\n",
       "\n",
       "    .dataframe thead th {\n",
       "        text-align: right;\n",
       "    }\n",
       "</style>\n",
       "<table border=\"1\" class=\"dataframe\">\n",
       "  <thead>\n",
       "    <tr style=\"text-align: right;\">\n",
       "      <th></th>\n",
       "      <th>principal component 1</th>\n",
       "      <th>principal component 2</th>\n",
       "      <th>TENURE</th>\n",
       "    </tr>\n",
       "  </thead>\n",
       "  <tbody>\n",
       "    <tr>\n",
       "      <th>0</th>\n",
       "      <td>-4326.383979</td>\n",
       "      <td>921.566882</td>\n",
       "      <td>12</td>\n",
       "    </tr>\n",
       "    <tr>\n",
       "      <th>1</th>\n",
       "      <td>4118.916665</td>\n",
       "      <td>-2432.846346</td>\n",
       "      <td>12</td>\n",
       "    </tr>\n",
       "    <tr>\n",
       "      <th>2</th>\n",
       "      <td>1497.907641</td>\n",
       "      <td>-1997.578694</td>\n",
       "      <td>12</td>\n",
       "    </tr>\n",
       "    <tr>\n",
       "      <th>3</th>\n",
       "      <td>1394.548536</td>\n",
       "      <td>-1488.743453</td>\n",
       "      <td>12</td>\n",
       "    </tr>\n",
       "    <tr>\n",
       "      <th>4</th>\n",
       "      <td>-3743.351896</td>\n",
       "      <td>757.342657</td>\n",
       "      <td>12</td>\n",
       "    </tr>\n",
       "  </tbody>\n",
       "</table>\n",
       "</div>"
      ],
      "text/plain": [
       "   principal component 1  principal component 2  TENURE\n",
       "0           -4326.383979             921.566882      12\n",
       "1            4118.916665           -2432.846346      12\n",
       "2            1497.907641           -1997.578694      12\n",
       "3            1394.548536           -1488.743453      12\n",
       "4           -3743.351896             757.342657      12"
      ]
     },
     "execution_count": 4,
     "metadata": {},
     "output_type": "execute_result"
    }
   ],
   "source": [
    "pca2 = PCA(n_components=2) # creating PCA with no of components is 2\n",
    "principalComponents = pca2.fit_transform(X) # giving the data to PCA\n",
    "# Creating new dataframe from the result obtained from PCA\n",
    "principalDf = pd.DataFrame(data = principalComponents, columns = ['principal component 1', 'principal component 2'])\n",
    "finalcc = pd.concat([principalDf, cc[['TENURE']]], axis = 1) # concatinating the PCA values and target values\n",
    "finalcc.head() # displaying first 5 rows of finalcc"
   ]
  },
  {
   "cell_type": "markdown",
   "id": "a8b49783",
   "metadata": {},
   "source": [
    "### b. Apply k-means algorithm on the PCA result and report your observation if the silhouette score has improved or not?"
   ]
  },
  {
   "cell_type": "code",
   "execution_count": 5,
   "id": "c29e9df2",
   "metadata": {},
   "outputs": [],
   "source": [
    "X_pca = finalcc.drop('TENURE',axis=1) # dropping 'TENURE' from finalcc and storing as X_pca\n",
    "y_pca = finalcc['TENURE'] # considering 'TENURE' and storing as y_pca\n",
    "nclusters = 3 # taking no of clusters as 3"
   ]
  },
  {
   "cell_type": "markdown",
   "id": "427a04cf",
   "metadata": {},
   "source": [
    "### Silhoutette score without PCA"
   ]
  },
  {
   "cell_type": "code",
   "execution_count": 6,
   "id": "6f004c6d",
   "metadata": {},
   "outputs": [
    {
     "name": "stdout",
     "output_type": "stream",
     "text": [
      "0.4654853574746247\n"
     ]
    }
   ],
   "source": [
    "from sklearn.cluster import KMeans # importing KMeans from sklearn.cluster\n",
    "km = KMeans(n_clusters=nclusters) # creating model\n",
    "km.fit(X) # feeding data to the model\n",
    "y_pred = km.predict(X) # predicting y values from X values\n",
    "from sklearn.metrics import silhouette_score # importing silhoutte_score from sklearn.metrics\n",
    "score = silhouette_score(X, y_pred) # finding the silhouette_score\n",
    "print(score) # printing silhouette_score"
   ]
  },
  {
   "cell_type": "markdown",
   "id": "dd34c97d",
   "metadata": {},
   "source": [
    "### Silhoutette score with PCA"
   ]
  },
  {
   "cell_type": "code",
   "execution_count": 7,
   "id": "e5aa9975",
   "metadata": {},
   "outputs": [
    {
     "name": "stdout",
     "output_type": "stream",
     "text": [
      "0.5720003159007088\n"
     ]
    }
   ],
   "source": [
    "km = KMeans(n_clusters=nclusters) # creating model\n",
    "km.fit(X_pca) # feeding data to the model\n",
    "y_pred = km.predict(X_pca) # predicting y values from x_pca values\n",
    "from sklearn.metrics import silhouette_score # importing silhoutte_score from sklearn.metrics\n",
    "score = silhouette_score(X_pca, y_pred) # finding the silhouette_score\n",
    "print(score) # printing silhouette_score"
   ]
  },
  {
   "cell_type": "markdown",
   "id": "32ca181f",
   "metadata": {},
   "source": [
    "### Silhoutette score after scaling and applying PCA"
   ]
  },
  {
   "cell_type": "code",
   "execution_count": 8,
   "id": "88dcae96",
   "metadata": {},
   "outputs": [
    {
     "name": "stdout",
     "output_type": "stream",
     "text": [
      "0.4533711725391876\n"
     ]
    }
   ],
   "source": [
    "scaler = StandardScaler() # creating a StandardScalar to scale the data\n",
    "scaler.fit(X) # feeding the data to the scalar\n",
    "X_scaled_array = scaler.transform(X) # scaling the data using Standard Scalar function\n",
    "X_scaled = pd.DataFrame(X_scaled_array, columns = X.columns) # creating a new dataframe with scaled data\n",
    "\n",
    "pca2 = PCA(n_components=2) # creating PCA with no of components is 2\n",
    "principalComponents = pca2.fit_transform(X_scaled) # giving the data to PCA\n",
    "# Creating new dataframe from the result obtained from PCA\n",
    "principalDf = pd.DataFrame(data = principalComponents, columns = ['principal component 1', 'principal component 2'])\n",
    "finalcc = pd.concat([principalDf, cc[['TENURE']]], axis = 1) # concatinating the PCA values and target values\n",
    "X_pca = finalcc.drop('TENURE',axis=1) # dropping 'TENURE' from finalcc and storing as X_pca\n",
    "y_pca = finalcc['TENURE'] # considering 'TENURE' and storing as y_pca\n",
    "\n",
    "km = KMeans(n_clusters=nclusters) # creating the model\n",
    "km.fit(X_pca) # feeding the model with scaled data\n",
    "y_cluster_kmeans = km.predict(X_pca) # predicting the y values with scaled values of x\n",
    "from sklearn.metrics import silhouette_score # importing silhoutte_score from sklearn.metrics\n",
    "score = silhouette_score(X_pca, y_cluster_kmeans) # finding the silhoutte_score\n",
    "print(score) # printing slihoutte_score"
   ]
  },
  {
   "cell_type": "code",
   "execution_count": null,
   "id": "11e232c1",
   "metadata": {},
   "outputs": [],
   "source": []
  },
  {
   "cell_type": "markdown",
   "id": "669a76fc",
   "metadata": {},
   "source": [
    "# 2. Use pd_speech_features.csv"
   ]
  },
  {
   "cell_type": "code",
   "execution_count": 9,
   "id": "004d4e29",
   "metadata": {},
   "outputs": [],
   "source": [
    "speech = pd.read_csv('pd_speech_features.csv') # reading pd_speech_features.csv and storing it as speech\n",
    "# pd.isna(speech).any().value_counts()\n",
    "X = speech.drop(columns = ['class']) # dropping class column and storing it as X\n",
    "y = speech['class'] # considering class column and storing as y"
   ]
  },
  {
   "cell_type": "markdown",
   "id": "5da4bf79",
   "metadata": {},
   "source": [
    "### a. Perform Scaling"
   ]
  },
  {
   "cell_type": "code",
   "execution_count": 10,
   "id": "eac109a7",
   "metadata": {},
   "outputs": [],
   "source": [
    "scaler = StandardScaler() # creating a StandardScalar to scale the data\n",
    "scaler.fit(X) # feeding the data to the scalar\n",
    "X_scaled_array = scaler.transform(X) # scaling the data using Standard Scalar function\n",
    "X_scaled = pd.DataFrame(X_scaled_array, columns = X.columns) # creating a new dataframe with scaled data"
   ]
  },
  {
   "cell_type": "markdown",
   "id": "a1555abe",
   "metadata": {},
   "source": [
    "### b. Apply PCA (k=3)"
   ]
  },
  {
   "cell_type": "code",
   "execution_count": 11,
   "id": "31c7eb42",
   "metadata": {},
   "outputs": [
    {
     "data": {
      "text/html": [
       "<div>\n",
       "<style scoped>\n",
       "    .dataframe tbody tr th:only-of-type {\n",
       "        vertical-align: middle;\n",
       "    }\n",
       "\n",
       "    .dataframe tbody tr th {\n",
       "        vertical-align: top;\n",
       "    }\n",
       "\n",
       "    .dataframe thead th {\n",
       "        text-align: right;\n",
       "    }\n",
       "</style>\n",
       "<table border=\"1\" class=\"dataframe\">\n",
       "  <thead>\n",
       "    <tr style=\"text-align: right;\">\n",
       "      <th></th>\n",
       "      <th>principal component 1</th>\n",
       "      <th>principal component 2</th>\n",
       "      <th>principal component 3</th>\n",
       "      <th>class</th>\n",
       "    </tr>\n",
       "  </thead>\n",
       "  <tbody>\n",
       "    <tr>\n",
       "      <th>0</th>\n",
       "      <td>-10.047372</td>\n",
       "      <td>1.471075</td>\n",
       "      <td>-6.846405</td>\n",
       "      <td>1</td>\n",
       "    </tr>\n",
       "    <tr>\n",
       "      <th>1</th>\n",
       "      <td>-10.637725</td>\n",
       "      <td>1.583749</td>\n",
       "      <td>-6.830976</td>\n",
       "      <td>1</td>\n",
       "    </tr>\n",
       "    <tr>\n",
       "      <th>2</th>\n",
       "      <td>-13.516185</td>\n",
       "      <td>-1.253543</td>\n",
       "      <td>-6.818699</td>\n",
       "      <td>1</td>\n",
       "    </tr>\n",
       "    <tr>\n",
       "      <th>3</th>\n",
       "      <td>-9.155084</td>\n",
       "      <td>8.833597</td>\n",
       "      <td>15.290903</td>\n",
       "      <td>1</td>\n",
       "    </tr>\n",
       "    <tr>\n",
       "      <th>4</th>\n",
       "      <td>-6.764470</td>\n",
       "      <td>4.611464</td>\n",
       "      <td>15.637121</td>\n",
       "      <td>1</td>\n",
       "    </tr>\n",
       "  </tbody>\n",
       "</table>\n",
       "</div>"
      ],
      "text/plain": [
       "   principal component 1  principal component 2  principal component 3  class\n",
       "0             -10.047372               1.471075              -6.846405      1\n",
       "1             -10.637725               1.583749              -6.830976      1\n",
       "2             -13.516185              -1.253543              -6.818699      1\n",
       "3              -9.155084               8.833597              15.290903      1\n",
       "4              -6.764470               4.611464              15.637121      1"
      ]
     },
     "execution_count": 11,
     "metadata": {},
     "output_type": "execute_result"
    }
   ],
   "source": [
    "pca3 = PCA(n_components=3) # creating PCA with no of components is 2\n",
    "principalComponents = pca3.fit_transform(X_scaled) # giving the data to PCA\n",
    "# Creating new dataframe from the result obtained from PCA\n",
    "principalDf = pd.DataFrame(data = principalComponents, columns = ['principal component 1', 'principal component 2','principal component 3'])\n",
    "finalspeech = pd.concat([principalDf, speech[['class']]], axis = 1) # concatinating the PCA values and target values\n",
    "finalspeech.head() # displaying first 5 rows of finalspeech"
   ]
  },
  {
   "cell_type": "markdown",
   "id": "75f47a8c",
   "metadata": {},
   "source": [
    "### c. Use SVM to report performance"
   ]
  },
  {
   "cell_type": "code",
   "execution_count": 12,
   "id": "afd0647f",
   "metadata": {},
   "outputs": [],
   "source": [
    "X_pca = finalspeech.drop('class',axis=1) # dropping class column and storing it as X_pca\n",
    "y_pca = finalspeech['class'] # considering class column and storing as y\n",
    "# splitting the given datasets into train and test datasets\n",
    "X_train, X_test, y_train, y_test = train_test_split(X_pca, y_pca, test_size = 0.2, random_state = 0)"
   ]
  },
  {
   "cell_type": "code",
   "execution_count": 13,
   "id": "124d69ec",
   "metadata": {},
   "outputs": [
    {
     "name": "stdout",
     "output_type": "stream",
     "text": [
      "              precision    recall  f1-score   support\n",
      "\n",
      "           0       0.67      0.42      0.52        38\n",
      "           1       0.83      0.93      0.88       114\n",
      "\n",
      "    accuracy                           0.80       152\n",
      "   macro avg       0.75      0.68      0.70       152\n",
      "weighted avg       0.79      0.80      0.79       152\n",
      "\n",
      "[[ 16  22]\n",
      " [  8 106]]\n",
      "accuracy is 0.8026315789473685\n"
     ]
    }
   ],
   "source": [
    "from sklearn.svm import SVC # importing SVC \n",
    "classifier = SVC() # creating the model\n",
    "classifier.fit(X_train, y_train) # feeding model with training dataset\n",
    "y_pred = classifier.predict(X_test) # predicting the dependent variable in the test dataset\n",
    "print(classification_report(y_test, y_pred)) # printing the classification report\n",
    "print(confusion_matrix(y_test, y_pred)) # printing the confusion matrix\n",
    "# Accuracy score\n",
    "from sklearn.metrics import accuracy_score # importing the accuracy_score\n",
    "print('accuracy is',accuracy_score(y_pred,y_test)) # printing accuracy_score"
   ]
  },
  {
   "cell_type": "code",
   "execution_count": null,
   "id": "0395e6d7",
   "metadata": {},
   "outputs": [],
   "source": []
  },
  {
   "cell_type": "markdown",
   "id": "eb59c943",
   "metadata": {},
   "source": [
    "# 3. Apply Linear Discriminant Analysis (LDA) on Iris.csv dataset to reduce dimensionality of data to k=2"
   ]
  },
  {
   "cell_type": "code",
   "execution_count": 14,
   "id": "b89b238e",
   "metadata": {},
   "outputs": [],
   "source": [
    "iris = pd.read_csv('Iris.csv') # reading 'Irsi.csv' and storing it as iris\n",
    "# iris.head() \n",
    "X = iris.drop(columns=['Species','Id']) # dropping 'Species','Id' columns from iris and storing as X\n",
    "y = iris['Species'] # considering 'Species' column and storing as y"
   ]
  },
  {
   "cell_type": "code",
   "execution_count": 15,
   "id": "8e7628f7",
   "metadata": {},
   "outputs": [
    {
     "data": {
      "text/html": [
       "<div>\n",
       "<style scoped>\n",
       "    .dataframe tbody tr th:only-of-type {\n",
       "        vertical-align: middle;\n",
       "    }\n",
       "\n",
       "    .dataframe tbody tr th {\n",
       "        vertical-align: top;\n",
       "    }\n",
       "\n",
       "    .dataframe thead th {\n",
       "        text-align: right;\n",
       "    }\n",
       "</style>\n",
       "<table border=\"1\" class=\"dataframe\">\n",
       "  <thead>\n",
       "    <tr style=\"text-align: right;\">\n",
       "      <th></th>\n",
       "      <th>principal component 1</th>\n",
       "      <th>principal component 2</th>\n",
       "      <th>Species</th>\n",
       "    </tr>\n",
       "  </thead>\n",
       "  <tbody>\n",
       "    <tr>\n",
       "      <th>0</th>\n",
       "      <td>8.084953</td>\n",
       "      <td>0.328454</td>\n",
       "      <td>Iris-setosa</td>\n",
       "    </tr>\n",
       "    <tr>\n",
       "      <th>1</th>\n",
       "      <td>7.147163</td>\n",
       "      <td>-0.755473</td>\n",
       "      <td>Iris-setosa</td>\n",
       "    </tr>\n",
       "    <tr>\n",
       "      <th>2</th>\n",
       "      <td>7.511378</td>\n",
       "      <td>-0.238078</td>\n",
       "      <td>Iris-setosa</td>\n",
       "    </tr>\n",
       "    <tr>\n",
       "      <th>3</th>\n",
       "      <td>6.837676</td>\n",
       "      <td>-0.642885</td>\n",
       "      <td>Iris-setosa</td>\n",
       "    </tr>\n",
       "    <tr>\n",
       "      <th>4</th>\n",
       "      <td>8.157814</td>\n",
       "      <td>0.540639</td>\n",
       "      <td>Iris-setosa</td>\n",
       "    </tr>\n",
       "  </tbody>\n",
       "</table>\n",
       "</div>"
      ],
      "text/plain": [
       "   principal component 1  principal component 2      Species\n",
       "0               8.084953               0.328454  Iris-setosa\n",
       "1               7.147163              -0.755473  Iris-setosa\n",
       "2               7.511378              -0.238078  Iris-setosa\n",
       "3               6.837676              -0.642885  Iris-setosa\n",
       "4               8.157814               0.540639  Iris-setosa"
      ]
     },
     "execution_count": 15,
     "metadata": {},
     "output_type": "execute_result"
    }
   ],
   "source": [
    "from sklearn.discriminant_analysis import LinearDiscriminantAnalysis # importing LinearDiscriminantAnalysis\n",
    "lda = LinearDiscriminantAnalysis(n_components=2) # creating lda\n",
    "principalComponents = lda.fit_transform(X,y) # giving the data to lda\n",
    "# Creating new dataframe from the result obtained from PCA\n",
    "principalDf = pd.DataFrame(data = principalComponents, columns = ['principal component 1', 'principal component 2'])\n",
    "\n",
    "finaliris = pd.concat([principalDf, iris[['Species']]], axis = 1) # concatinating the lda values and target values\n",
    "finaliris.head() # displaying first rows for finaliris"
   ]
  },
  {
   "cell_type": "markdown",
   "id": "017a100d",
   "metadata": {},
   "source": [
    "# 4. Briefly identify the difference between PCA and LDA"
   ]
  },
  {
   "cell_type": "markdown",
   "id": "298a937c",
   "metadata": {},
   "source": [
    "Difference between PCA adn LDA is written in word document. Please kindly refer there"
   ]
  },
  {
   "cell_type": "code",
   "execution_count": null,
   "id": "6174ae42",
   "metadata": {},
   "outputs": [],
   "source": []
  }
 ],
 "metadata": {
  "kernelspec": {
   "display_name": "Python 3 (ipykernel)",
   "language": "python",
   "name": "python3"
  },
  "language_info": {
   "codemirror_mode": {
    "name": "ipython",
    "version": 3
   },
   "file_extension": ".py",
   "mimetype": "text/x-python",
   "name": "python",
   "nbconvert_exporter": "python",
   "pygments_lexer": "ipython3",
   "version": "3.10.6"
  }
 },
 "nbformat": 4,
 "nbformat_minor": 5
}
